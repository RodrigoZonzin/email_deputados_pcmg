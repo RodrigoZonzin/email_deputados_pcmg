{
  "nbformat": 4,
  "nbformat_minor": 0,
  "metadata": {
    "colab": {
      "provenance": [],
      "mount_file_id": "18HsfcZ2XLFz6Er2o_PTBTgFi5xTWQG-h",
      "authorship_tag": "ABX9TyOOgs2pBclNDg2c+ewqkKsu",
      "include_colab_link": true
    },
    "kernelspec": {
      "name": "python3",
      "display_name": "Python 3"
    },
    "language_info": {
      "name": "python"
    }
  },
  "cells": [
    {
      "cell_type": "markdown",
      "metadata": {
        "id": "view-in-github",
        "colab_type": "text"
      },
      "source": [
        "<a href=\"https://colab.research.google.com/github/RodrigoZonzin/email_deputados_pcmg/blob/main/disparando_email_almg.ipynb\" target=\"_parent\"><img src=\"https://colab.research.google.com/assets/colab-badge.svg\" alt=\"Open In Colab\"/></a>"
      ]
    },
    {
      "cell_type": "code",
      "execution_count": 44,
      "metadata": {
        "id": "6GY-Qx6uQfCr"
      },
      "outputs": [],
      "source": [
        "import smtplib\n",
        "import email.message\n",
        "import pandas as pd\n",
        "import numpy as np"
      ]
    },
    {
      "cell_type": "code",
      "source": [
        "df = pd.read_csv('/content/drive/MyDrive/email_nome_deputados_estaduais.csv')"
      ],
      "metadata": {
        "id": "00-5gP3rUyN8"
      },
      "execution_count": 45,
      "outputs": []
    },
    {
      "cell_type": "code",
      "source": [
        "lista_emails = list(df['email'])\n",
        "lista_nomes = list(df['nome'])"
      ],
      "metadata": {
        "id": "9W5e0CmCVHxf"
      },
      "execution_count": 46,
      "outputs": []
    },
    {
      "cell_type": "code",
      "source": [
        "def nome_no_texto(nome):\n",
        "  return f\"\"\"<h2>Olá, Deputado(a) {nome}!</h2>\n",
        "\n",
        "    <p style=\"font-size: 16px;\">Espero que esteja bem.\n",
        "    Meu nome é Rodrigo Zonzin, sou de Barbacena no Campo das Vertentes\n",
        "    Tenho acompanhado sua participação política pelas mídias sociais há algum tempo.</p>\n",
        "\n",
        "    <p style=\"font-size: 16px;\">Entro em contato para levantar uma demanda importante para a segurança pública em nosso Estado.</p>\n",
        "\n",
        "    <p style=\"font-size: 16px;\">Há muito, a Perícia Criminal em Minas Gerais tem enfrentado desafios que comprometem o histórico de excelência do serviço público mineiro. Mais grave que isso, tais desafios têm comprometido a qualidade dos trabalhos periciais, que são de absoluta importância para o devido processo legal - talvez o mandamento constitucional que mais elucida a natureza de nossa sociedade civilizada e democrática.</p>\n",
        "\n",
        "    <p style=\"font-size: 16px;\">O trabalho pericial deve ser sempre guiado pela legalidade, impessoalidade, moralidade, publicidade e eficiência (Art. 37, CF), requisitos constitucionais. Dada a natureza altamente especializada do processo pericial, também deve-se ter como premissa o estrito cumprimento do método científico. Tais requisitos tornam indispensável uma administração técnica, autônoma e bem estruturada.</p>\n",
        "\n",
        "    <p style=\"font-size: 16px;\">No Brasil, tem-se observado, desde a década de 90, um movimento de garantia da autonomia administrativa, orçamentária e funcional dos quadros da Perícia Criminal. Dezenove dos 27 entes federativos já têm órgãos desvinculados da Polícia Civil. Bons exemplos são a Polícia Científica de São Paulo, a Polícia Científica do Paraná, o Instituto Geral de Perícias do Rio Grande do Sul e a Perícia Forense do Ceará.</p>\n",
        "\n",
        "    <p style=\"font-size: 16px;\">Em âmbito nacional, tramita uma PEC no Congresso para a introdução da Perícia no artigo 144 da Constituição Federal, como órgão permanente de segurança pública. A exemplo da criação da Polícia Penal, a criação da Polícia Científica é de suma importância para a qualificação dos trabalhos no país, pois retira a sobrecarga de atribuições das Polícias Civis, o desvio de funcionalidade dos peritos criminais e ameniza eventuais interferências no processo investigativo.</p>\n",
        "\n",
        "    <p style=\"font-size: 16px;\">Em 1999, houve uma Proposta de Emenda à Constituição mineira para a criação da Polícia Científica mineira. Infelizmente, a PEC foi arquivada.</p>\n",
        "\n",
        "    <p style=\"font-size: 16px;\">Nesse sentido, gostaria de saber qual é a sua opinião a respeito da autonomia da Perícia Criminal em Minas Gerais e se Vossa Excelência estaria de acordo em reintroduzir essa discussão na ALMG.</p>\n",
        "\n",
        "    <p style=\"font-size: 16px;\">Desde já, obrigado!</p>\n",
        "    <p style=\"font-size: 16px;\">Rodrigo Zonzin</p> \"\"\""
      ],
      "metadata": {
        "id": "nAaly4yEWHcj"
      },
      "execution_count": 47,
      "outputs": []
    },
    {
      "cell_type": "code",
      "source": [
        "def enviar_email(texto, endereco_email, nome):\n",
        "    corpo_email = texto\n",
        "\n",
        "    msg = email.message.Message()\n",
        "    msg['Subject'] = \"Debate - Necessidade da Polícia Científica de Minas Gerais\"\n",
        "    msg['From'] = 'emailaqui@email.com'\n",
        "    msg['To'] = endereco_email\n",
        "    password = 'chavedesegurancaaqui'\n",
        "    msg.add_header('Content-Type', 'text/html')\n",
        "    msg.set_payload(corpo_email )\n",
        "\n",
        "    s = smtplib.SMTP('smtp.gmail.com: 587')\n",
        "    s.starttls()\n",
        "    # Login Credentials for sending the mail\n",
        "    s.login(msg['From'], password)\n",
        "    s.sendmail(msg['From'], [msg['To']], msg.as_string().encode('utf-8'))\n",
        "    print(f'Email enviado para {nome}')\n"
      ],
      "metadata": {
        "id": "tt96xb6oQfiW"
      },
      "execution_count": 41,
      "outputs": []
    },
    {
      "cell_type": "code",
      "source": [
        "for i, deputado in enumerate(lista_nomes):\n",
        "    texto_t = nome_no_texto(deputado)\n",
        "    enviar_email(texto_t, lista_emails[i], deputado)"
      ],
      "metadata": {
        "colab": {
          "base_uri": "https://localhost:8080/"
        },
        "id": "E8MmsdY8UwDb",
        "outputId": "8112d19e-259a-4a3f-ecfe-c18ddff18e29"
      },
      "execution_count": 48,
      "outputs": [
        {
          "output_type": "stream",
          "name": "stdout",
          "text": [
            "Email enviado para Adriano Alvarenga\n",
            "Email enviado para Alê Portela\n",
            "Email enviado para Alencar da Silveira Jr.\n",
            "Email enviado para Ana Paula Siqueira\n",
            "Email enviado para Andréia de Jesus\n",
            "Email enviado para Antonio Carlos Arantes\n",
            "Email enviado para Arlen SantiagoAVANTE\n",
            "Email enviado para Arnaldo Silva\n",
            "Email enviado para Beatriz Cerqueira\n",
            "Email enviado para Bella Gonçalves\n",
            "Email enviado para Betão\n",
            "Email enviado para Betinho Pinto Coelho\n",
            "Email enviado para Bim da AmbulânciaAVANTE\n",
            "Email enviado para Bosco\n",
            "Email enviado para Bruno Engler\n",
            "Email enviado para Caporezzo\n",
            "Email enviado para Carlos Henrique\n",
            "Email enviado para Cassio Soares\n",
            "Email enviado para Celinho SintrocelPCdoB\n",
            "Email enviado para Charles Santos\n",
            "Email enviado para Chiara Biondini\n",
            "Email enviado para Coronel Henrique\n",
            "Email enviado para Coronel Sandro\n",
            "Email enviado para Cristiano Silveira\n",
            "Email enviado para Delegada Sheila\n",
            "Email enviado para Delegado Christiano Xavier\n",
            "Email enviado para Doorgal Andrada\n",
            "Email enviado para Douglas Melo\n",
            "Email enviado para Doutor Jean Freire\n",
            "Email enviado para Doutor Paulo\n",
            "Email enviado para Doutor Wilson Batista\n",
            "Email enviado para Dr. Maurício\n",
            "Email enviado para Duarte Bechir\n",
            "Email enviado para Eduardo Azevedo\n",
            "Email enviado para Elismar PradoPROS\n",
            "Email enviado para Enes Cândido\n",
            "Email enviado para Fábio AvelarAVANTE\n",
            "Email enviado para Gil Pereira\n",
            "Email enviado para Grego da Fundação\n",
            "Email enviado para Gustavo Santana\n",
            "Email enviado para Ione Pinheiro\n",
            "Email enviado para João Junior\n",
            "Email enviado para João Magalhães\n",
            "Email enviado para João Vítor Xavier\n",
            "Email enviado para Leandro Genaro\n",
            "Email enviado para Leleco Pimentel\n",
            "Email enviado para Leninha\n",
            "Email enviado para Leonídio Bouças\n",
            "Email enviado para Lohanna\n",
            "Email enviado para Lucas Lasmar\n",
            "Email enviado para Lud FalcãoPODE\n",
            "Email enviado para Luizinho\n",
            "Email enviado para Macaé Evaristo\n",
            "Email enviado para Maria Clara Marra\n",
            "Email enviado para Mário Henrique Caixa\n",
            "Email enviado para Marli Ribeiro\n",
            "Email enviado para Marquinho Lemos\n",
            "Email enviado para Mauro Tramonte\n",
            "Email enviado para Nayara Rocha\n",
            "Email enviado para Neilando Pimenta\n",
            "Email enviado para Noraldino Júnior\n",
            "Email enviado para Oscar Teixeira\n",
            "Email enviado para Professor Cleiton\n",
            "Email enviado para Professor Wendel MesquitaSOLIDARIEDADE\n",
            "Email enviado para Rafael Martins\n",
            "Email enviado para Raul Belém\n",
            "Email enviado para Ricardo Campos\n",
            "Email enviado para Roberto Andrade\n",
            "Email enviado para Rodrigo Lopes\n",
            "Email enviado para Sargento Rodrigues\n",
            "Email enviado para Tadeu Martins Leite\n",
            "Email enviado para Thiago Cota\n",
            "Email enviado para Tito Torres\n",
            "Email enviado para Ulysses Gomes\n",
            "Email enviado para Vitório Júnior\n",
            "Email enviado para Zé Guilherme\n",
            "Email enviado para Zé Laviola\n"
          ]
        }
      ]
    }
  ]
}